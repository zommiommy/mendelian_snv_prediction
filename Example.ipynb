{
 "cells": [
  {
   "cell_type": "code",
   "execution_count": 1,
   "metadata": {},
   "outputs": [],
   "source": [
    "import numpy as np\n",
    "import pandas as pd"
   ]
  },
  {
   "cell_type": "code",
   "execution_count": 2,
   "metadata": {},
   "outputs": [],
   "source": [
    "import tensorflow as tf\n",
    "import tensorflow.keras as k\n",
    "from tensorflow.keras import Model\n",
    "from tensorflow.keras.layers import Dense, Input, Conv2D, MaxPool2D, Flatten, Reshape"
   ]
  },
  {
   "cell_type": "code",
   "execution_count": 3,
   "metadata": {},
   "outputs": [],
   "source": [
    "import silence_tensorflow"
   ]
  },
  {
   "cell_type": "code",
   "execution_count": 4,
   "metadata": {},
   "outputs": [],
   "source": [
    "from keras_bed_sequence import BedSequence\n",
    "from keras_mixed_sequence import MixedSequence"
   ]
  },
  {
   "cell_type": "markdown",
   "metadata": {},
   "source": [
    "# Data"
   ]
  },
  {
   "cell_type": "code",
   "execution_count": 5,
   "metadata": {},
   "outputs": [],
   "source": [
    "df = pd.read_csv(\"./mendelian_snv.csv.gz\")"
   ]
  },
  {
   "cell_type": "code",
   "execution_count": 6,
   "metadata": {},
   "outputs": [],
   "source": [
    "chromosomes = df.chrom.unique()"
   ]
  },
  {
   "cell_type": "code",
   "execution_count": 7,
   "metadata": {},
   "outputs": [],
   "source": [
    "train_bed = df.head(int(1e4))"
   ]
  },
  {
   "cell_type": "code",
   "execution_count": 8,
   "metadata": {},
   "outputs": [
    {
     "data": {
      "application/vnd.jupyter.widget-view+json": {
       "model_id": "",
       "version_major": 2,
       "version_minor": 0
      },
      "text/plain": [
       "HBox(children=(IntProgress(value=0, description='Loading chromosomes for genome hg19', layout=Layout(flex='2')…"
      ]
     },
     "metadata": {},
     "output_type": "display_data"
    },
    {
     "name": "stdout",
     "output_type": "stream",
     "text": [
      "\r"
     ]
    },
    {
     "data": {
      "application/vnd.jupyter.widget-view+json": {
       "model_id": "",
       "version_major": 2,
       "version_minor": 0
      },
      "text/plain": [
       "HBox(children=(IntProgress(value=0, description='Rendering sequences in hg19', layout=Layout(flex='2'), max=11…"
      ]
     },
     "metadata": {},
     "output_type": "display_data"
    },
    {
     "name": "stdout",
     "output_type": "stream",
     "text": [
      "\r"
     ]
    },
    {
     "data": {
      "application/vnd.jupyter.widget-view+json": {
       "model_id": "",
       "version_major": 2,
       "version_minor": 0
      },
      "text/plain": [
       "HBox(children=(IntProgress(value=0, description='Converting nucleotides to numeric classes', layout=Layout(fle…"
      ]
     },
     "metadata": {},
     "output_type": "display_data"
    },
    {
     "name": "stdout",
     "output_type": "stream",
     "text": [
      "\r"
     ]
    }
   ],
   "source": [
    "X = BedSequence(\n",
    "    assembly=\"hg19\",\n",
    "    bed=train_bed,\n",
    "    batch_size=128\n",
    ")"
   ]
  },
  {
   "cell_type": "code",
   "execution_count": 9,
   "metadata": {},
   "outputs": [],
   "source": [
    "y = train_bed.labels.values"
   ]
  },
  {
   "cell_type": "code",
   "execution_count": 10,
   "metadata": {},
   "outputs": [
    {
     "data": {
      "text/plain": [
       "(128, 500, 4)"
      ]
     },
     "execution_count": 10,
     "metadata": {},
     "output_type": "execute_result"
    }
   ],
   "source": [
    "X[0].shape"
   ]
  },
  {
   "cell_type": "code",
   "execution_count": 11,
   "metadata": {},
   "outputs": [
    {
     "data": {
      "text/plain": [
       "(10000,)"
      ]
     },
     "execution_count": 11,
     "metadata": {},
     "output_type": "execute_result"
    }
   ],
   "source": [
    "y.shape"
   ]
  },
  {
   "cell_type": "code",
   "execution_count": 12,
   "metadata": {},
   "outputs": [],
   "source": [
    "mixed = MixedSequence(X, y, 128)"
   ]
  },
  {
   "cell_type": "code",
   "execution_count": 13,
   "metadata": {},
   "outputs": [],
   "source": [
    "mixed.on_epoch_end()"
   ]
  },
  {
   "cell_type": "markdown",
   "metadata": {},
   "source": [
    "# Model"
   ]
  },
  {
   "cell_type": "code",
   "execution_count": 14,
   "metadata": {},
   "outputs": [],
   "source": [
    "def build_model(x, filters, kernels, pools, dense):\n",
    "    # Convolutional part\n",
    "    for  _filter, _kernel, _pool in zip(filters, kernels, pools):\n",
    "        x = Conv2D(_filter, _kernel, activation=\"relu\", padding=\"same\")(x)\n",
    "        x = MaxPool2D(_pool)(x)\n",
    "\n",
    "    x = Flatten()(x)\n",
    "    \n",
    "    # Dense part\n",
    "    for _dense in dense:\n",
    "        x = Dense(_dense, activation=\"relu\")(x)\n",
    "        \n",
    "    x = Dense(1, activation=\"sigmoid\")(x)\n",
    "    return x"
   ]
  },
  {
   "cell_type": "code",
   "execution_count": 15,
   "metadata": {},
   "outputs": [],
   "source": [
    "filters = [128, 64, 64, 32]\n",
    "kernels = [(9, 4), (6, 2), (3, 1), (3, 1)]\n",
    "pools   = [(3, 1), (2, 1), (2, 2), (2, 2)]\n",
    "dense   = [256, 64, 32]"
   ]
  },
  {
   "cell_type": "code",
   "execution_count": 16,
   "metadata": {
    "scrolled": false
   },
   "outputs": [
    {
     "name": "stdout",
     "output_type": "stream",
     "text": [
      "Model: \"model\"\n",
      "_________________________________________________________________\n",
      "Layer (type)                 Output Shape              Param #   \n",
      "=================================================================\n",
      "input_1 (InputLayer)         [(None, 500, 4)]          0         \n",
      "_________________________________________________________________\n",
      "reshape (Reshape)            (None, 500, 4, 1)         0         \n",
      "_________________________________________________________________\n",
      "conv2d (Conv2D)              (None, 500, 4, 128)       4736      \n",
      "_________________________________________________________________\n",
      "max_pooling2d (MaxPooling2D) (None, 166, 4, 128)       0         \n",
      "_________________________________________________________________\n",
      "conv2d_1 (Conv2D)            (None, 166, 4, 64)        98368     \n",
      "_________________________________________________________________\n",
      "max_pooling2d_1 (MaxPooling2 (None, 83, 4, 64)         0         \n",
      "_________________________________________________________________\n",
      "conv2d_2 (Conv2D)            (None, 83, 4, 64)         12352     \n",
      "_________________________________________________________________\n",
      "max_pooling2d_2 (MaxPooling2 (None, 41, 2, 64)         0         \n",
      "_________________________________________________________________\n",
      "conv2d_3 (Conv2D)            (None, 41, 2, 32)         6176      \n",
      "_________________________________________________________________\n",
      "max_pooling2d_3 (MaxPooling2 (None, 20, 1, 32)         0         \n",
      "_________________________________________________________________\n",
      "flatten (Flatten)            (None, 640)               0         \n",
      "_________________________________________________________________\n",
      "dense (Dense)                (None, 256)               164096    \n",
      "_________________________________________________________________\n",
      "dense_1 (Dense)              (None, 64)                16448     \n",
      "_________________________________________________________________\n",
      "dense_2 (Dense)              (None, 32)                2080      \n",
      "_________________________________________________________________\n",
      "dense_3 (Dense)              (None, 1)                 33        \n",
      "=================================================================\n",
      "Total params: 304,289\n",
      "Trainable params: 304,289\n",
      "Non-trainable params: 0\n",
      "_________________________________________________________________\n"
     ]
    }
   ],
   "source": [
    "i = Input(\n",
    "    shape=(500, 4)\n",
    ")\n",
    "x = Reshape((500, 4, 1))(i)\n",
    "classifier = Model(\n",
    "    inputs=i,\n",
    "    outputs=build_model(\n",
    "        x,\n",
    "        filters,\n",
    "        kernels,\n",
    "        pools,\n",
    "        dense\n",
    "    )\n",
    ")\n",
    "classifier.summary()"
   ]
  },
  {
   "cell_type": "code",
   "execution_count": 17,
   "metadata": {
    "scrolled": false
   },
   "outputs": [],
   "source": [
    "classifier.compile(\n",
    "    optimizer=\"nadam\",\n",
    "    loss=\"binary_crossentropy\"\n",
    ")"
   ]
  },
  {
   "cell_type": "code",
   "execution_count": null,
   "metadata": {
    "scrolled": false
   },
   "outputs": [
    {
     "name": "stdout",
     "output_type": "stream",
     "text": [
      "Train for 15 steps\n",
      "Epoch 1/100\n",
      "15/15 [==============================] - 7s 472ms/step - loss: 0.1195\n",
      "Epoch 2/100\n",
      "15/15 [==============================] - 7s 451ms/step - loss: 0.1410\n",
      "Epoch 3/100\n",
      "15/15 [==============================] - 7s 471ms/step - loss: 0.1168\n",
      "Epoch 4/100\n",
      "15/15 [==============================] - 7s 483ms/step - loss: 0.4498\n",
      "Epoch 5/100\n",
      "15/15 [==============================] - 7s 495ms/step - loss: 0.1954\n",
      "Epoch 6/100\n",
      "15/15 [==============================] - 8s 509ms/step - loss: 0.1360\n",
      "Epoch 7/100\n",
      "15/15 [==============================] - 7s 500ms/step - loss: 0.1052\n",
      "Epoch 8/100\n",
      "15/15 [==============================] - 7s 498ms/step - loss: 0.1291\n",
      "Epoch 9/100\n",
      "15/15 [==============================] - 7s 498ms/step - loss: 0.1391\n",
      "Epoch 10/100\n",
      "15/15 [==============================] - 7s 484ms/step - loss: 0.1314\n",
      "Epoch 11/100\n",
      "15/15 [==============================] - 7s 475ms/step - loss: 0.1256\n",
      "Epoch 12/100\n",
      "15/15 [==============================] - 7s 457ms/step - loss: 0.1109\n",
      "Epoch 13/100\n",
      "15/15 [==============================] - 7s 475ms/step - loss: 0.1464\n",
      "Epoch 14/100\n",
      "15/15 [==============================] - 7s 483ms/step - loss: 0.1076\n",
      "Epoch 15/100\n",
      "15/15 [==============================] - 7s 455ms/step - loss: 0.1015\n",
      "Epoch 16/100\n",
      "15/15 [==============================] - 7s 474ms/step - loss: 0.1283\n",
      "Epoch 17/100\n",
      "15/15 [==============================] - 7s 495ms/step - loss: 0.1107\n",
      "Epoch 18/100\n",
      "15/15 [==============================] - 7s 488ms/step - loss: 0.1106\n",
      "Epoch 19/100\n",
      "15/15 [==============================] - 7s 490ms/step - loss: 0.1334\n",
      "Epoch 20/100\n",
      "15/15 [==============================] - 7s 489ms/step - loss: 0.1114\n",
      "Epoch 21/100\n",
      "15/15 [==============================] - 7s 490ms/step - loss: 0.1046\n",
      "Epoch 22/100\n",
      "15/15 [==============================] - 7s 489ms/step - loss: 0.1953\n",
      "Epoch 23/100\n",
      "15/15 [==============================] - 7s 489ms/step - loss: 0.1226\n",
      "Epoch 24/100\n",
      "15/15 [==============================] - 7s 489ms/step - loss: 0.1321\n",
      "Epoch 25/100\n",
      "15/15 [==============================] - 7s 492ms/step - loss: 0.1168\n",
      "Epoch 26/100\n",
      "15/15 [==============================] - 8s 504ms/step - loss: 0.1369\n",
      "Epoch 27/100\n",
      "15/15 [==============================] - 7s 492ms/step - loss: 0.0944\n",
      "Epoch 28/100\n",
      "15/15 [==============================] - 7s 490ms/step - loss: 0.1072\n",
      "Epoch 29/100\n",
      "15/15 [==============================] - 7s 493ms/step - loss: 0.0945\n",
      "Epoch 30/100\n",
      "15/15 [==============================] - 7s 499ms/step - loss: 0.1004\n",
      "Epoch 31/100\n",
      "15/15 [==============================] - 7s 495ms/step - loss: 0.1069\n",
      "Epoch 32/100\n",
      "15/15 [==============================] - 8s 509ms/step - loss: 0.1148\n",
      "Epoch 33/100\n",
      "15/15 [==============================] - 7s 491ms/step - loss: 0.1186\n",
      "Epoch 34/100\n",
      "15/15 [==============================] - 7s 491ms/step - loss: 0.0978\n",
      "Epoch 35/100\n",
      "15/15 [==============================] - 7s 492ms/step - loss: 0.0935\n",
      "Epoch 36/100\n",
      "15/15 [==============================] - 7s 491ms/step - loss: 0.1029\n",
      "Epoch 37/100\n",
      "15/15 [==============================] - 7s 492ms/step - loss: 0.0858\n",
      "Epoch 38/100\n",
      "15/15 [==============================] - 7s 492ms/step - loss: 0.1058\n",
      "Epoch 39/100\n",
      "15/15 [==============================] - 8s 503ms/step - loss: 0.1173\n",
      "Epoch 40/100\n",
      "15/15 [==============================] - 7s 493ms/step - loss: 0.0880\n",
      "Epoch 41/100\n",
      "15/15 [==============================] - 7s 493ms/step - loss: 0.0799\n",
      "Epoch 42/100\n",
      "15/15 [==============================] - 7s 493ms/step - loss: 0.0976\n",
      "Epoch 43/100\n",
      "15/15 [==============================] - 7s 492ms/step - loss: 0.1245\n",
      "Epoch 44/100\n",
      "15/15 [==============================] - 7s 492ms/step - loss: 0.1222\n",
      "Epoch 45/100\n",
      "15/15 [==============================] - 7s 490ms/step - loss: 0.1128\n",
      "Epoch 46/100\n",
      "15/15 [==============================] - 7s 498ms/step - loss: 0.1053\n",
      "Epoch 47/100\n",
      "15/15 [==============================] - 7s 491ms/step - loss: 0.1069\n",
      "Epoch 48/100\n",
      "15/15 [==============================] - 7s 494ms/step - loss: 0.0952\n",
      "Epoch 49/100\n",
      "15/15 [==============================] - 8s 538ms/step - loss: 0.0806\n",
      "Epoch 50/100\n",
      "15/15 [==============================] - 8s 554ms/step - loss: 0.0810\n",
      "Epoch 51/100\n",
      "15/15 [==============================] - 9s 594ms/step - loss: 0.0835\n",
      "Epoch 52/100\n",
      "15/15 [==============================] - 9s 587ms/step - loss: 0.1045\n",
      "Epoch 53/100\n",
      "15/15 [==============================] - 8s 524ms/step - loss: 0.0939\n",
      "Epoch 54/100\n",
      "15/15 [==============================] - 7s 479ms/step - loss: 0.0929\n",
      "Epoch 55/100\n",
      "15/15 [==============================] - 8s 555ms/step - loss: 0.0813\n",
      "Epoch 56/100\n",
      "15/15 [==============================] - 8s 505ms/step - loss: 0.0860\n",
      "Epoch 57/100\n",
      "15/15 [==============================] - 7s 469ms/step - loss: 0.1008\n",
      "Epoch 58/100\n",
      "15/15 [==============================] - 7s 471ms/step - loss: 0.0904\n",
      "Epoch 59/100\n",
      "15/15 [==============================] - 7s 491ms/step - loss: 0.0748\n",
      "Epoch 60/100\n",
      "15/15 [==============================] - 7s 471ms/step - loss: 0.0779\n",
      "Epoch 61/100\n",
      "15/15 [==============================] - 7s 468ms/step - loss: 0.0570\n",
      "Epoch 62/100\n",
      " 2/15 [===>..........................] - ETA: 6s - loss: 0.0896"
     ]
    }
   ],
   "source": [
    "histoty = classifier.fit_generator(\n",
    "    generator=mixed,\n",
    "    steps_per_epoch=mixed.steps_per_epoch // 5,\n",
    "    epochs=100,\n",
    "    verbose=1,\n",
    "    use_multiprocessing=False,\n",
    "    shuffle=True\n",
    ").history"
   ]
  },
  {
   "cell_type": "code",
   "execution_count": null,
   "metadata": {},
   "outputs": [],
   "source": []
  },
  {
   "cell_type": "code",
   "execution_count": null,
   "metadata": {},
   "outputs": [],
   "source": []
  }
 ],
 "metadata": {
  "kernelspec": {
   "display_name": "Python 3",
   "language": "python",
   "name": "python3"
  },
  "language_info": {
   "codemirror_mode": {
    "name": "ipython",
    "version": 3
   },
   "file_extension": ".py",
   "mimetype": "text/x-python",
   "name": "python",
   "nbconvert_exporter": "python",
   "pygments_lexer": "ipython3",
   "version": "3.7.4"
  }
 },
 "nbformat": 4,
 "nbformat_minor": 4
}
